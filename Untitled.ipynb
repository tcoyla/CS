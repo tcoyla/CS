{
 "cells": [
  {
   "cell_type": "code",
   "execution_count": null,
   "id": "72a45d4f",
   "metadata": {},
   "outputs": [
    {
     "name": "stdout",
     "output_type": "stream",
     "text": [
      "Namespace(batchSize=8, dataset='R52', dropout=0.3, epoch=10, hiddenSize=100, initialFeatureSize=300, l2=1e-06, lr=0.001, lr_dc=0.1, lr_dc_step=3, normalization=False, rand=1234, use_LDA=False, valid_portion=0.1)\n",
      "min_len_of_sentence : 0\n",
      "max_len_of_sentence : 453\n",
      "min_num_of_sentence : 1\n",
      "max_num_of_sentence : 43\n",
      "average_len_of_sentence: 15.948564209083706\n",
      "average_num_of_sentence: 5.114895947426068\n",
      "Total_num_of_sentence : 46699\n",
      "Counter({'earn': 3923, 'acq': 2292, 'crude': 374, 'trade': 326, 'money-fx': 309, 'interest': 272, 'money-supply': 151, 'ship': 144, 'sugar': 122, 'coffee': 112, 'gold': 90, 'gnp': 74, 'cpi': 71, 'cocoa': 61, 'grain': 51, 'alum': 50, 'reserves': 49, 'jobs': 49, 'ipi': 45, 'copper': 44, 'rubber': 40, 'iron-steel': 38, 'nat-gas': 36, 'bop': 31, 'veg-oil': 30, 'tin': 27, 'cotton': 24, 'wpi': 23, 'livestock': 22, 'orange': 22, 'retail': 20, 'pet-chem': 19, 'gas': 18, 'housing': 17, 'strategic-metal': 15, 'lei': 14, 'lumber': 14, 'zinc': 13, 'income': 11, 'meal-feed': 11, 'carcass': 11, 'fuel': 11, 'heat': 10, 'lead': 8, 'instal-debt': 6, 'dlr': 6, 'tea': 5, 'potato': 5, 'nickel': 4, 'cpu': 4, 'platinum': 3, 'jet': 3})\n",
      "Total_number_of_words: 9333\n",
      "Total_number_of_categories: 52\n",
      "-------------------------------------------------------\n",
      "epoch:  0\n",
      "start training:  2023-09-15 11:23:23.524972\n"
     ]
    },
    {
     "name": "stderr",
     "output_type": "stream",
     "text": [
      "                                                                      \r"
     ]
    },
    {
     "name": "stdout",
     "output_type": "stream",
     "text": [
      "\tLoss:\t1725.9026\n"
     ]
    },
    {
     "name": "stderr",
     "output_type": "stream",
     "text": [
      "                                                                      \r"
     ]
    },
    {
     "name": "stdout",
     "output_type": "stream",
     "text": [
      "Validation Accuracy:\t0.9253, Test Accuracy:\t0.9183\n",
      "-------------------------------------------------------\n",
      "epoch:  1\n",
      "start training:  2023-09-15 11:24:19.936425\n"
     ]
    },
    {
     "name": "stderr",
     "output_type": "stream",
     "text": [
      "                                                                      \r"
     ]
    },
    {
     "name": "stdout",
     "output_type": "stream",
     "text": [
      "\tLoss:\t339.4127\n"
     ]
    },
    {
     "name": "stderr",
     "output_type": "stream",
     "text": [
      "                                                                      \r"
     ]
    },
    {
     "name": "stdout",
     "output_type": "stream",
     "text": [
      "Validation Accuracy:\t0.9345, Test Accuracy:\t0.9339\n",
      "-------------------------------------------------------\n",
      "epoch:  2\n",
      "start training:  2023-09-15 11:25:24.787646\n"
     ]
    },
    {
     "name": "stderr",
     "output_type": "stream",
     "text": [
      "                                                                      \r"
     ]
    },
    {
     "name": "stdout",
     "output_type": "stream",
     "text": [
      "\tLoss:\t98.2602\n"
     ]
    },
    {
     "name": "stderr",
     "output_type": "stream",
     "text": [
      "                                                                      \r"
     ]
    },
    {
     "name": "stdout",
     "output_type": "stream",
     "text": [
      "Validation Accuracy:\t0.9405, Test Accuracy:\t0.9412\n",
      "-------------------------------------------------------\n",
      "epoch:  3\n",
      "start training:  2023-09-15 11:26:32.873354\n"
     ]
    },
    {
     "name": "stderr",
     "output_type": "stream",
     "text": [
      "                                                                      \r"
     ]
    },
    {
     "name": "stdout",
     "output_type": "stream",
     "text": [
      "\tLoss:\t74.5914\n"
     ]
    },
    {
     "name": "stderr",
     "output_type": "stream",
     "text": [
      "                                                                      \r"
     ]
    },
    {
     "name": "stdout",
     "output_type": "stream",
     "text": [
      "Validation Accuracy:\t0.9466, Test Accuracy:\t0.9440\n",
      "-------------------------------------------------------\n",
      "epoch:  4\n",
      "start training:  2023-09-15 11:27:33.982446\n"
     ]
    },
    {
     "name": "stderr",
     "output_type": "stream",
     "text": [
      "                                                                      \r"
     ]
    },
    {
     "name": "stdout",
     "output_type": "stream",
     "text": [
      "\tLoss:\t56.4114\n"
     ]
    },
    {
     "name": "stderr",
     "output_type": "stream",
     "text": [
      "                                                                      \r"
     ]
    },
    {
     "name": "stdout",
     "output_type": "stream",
     "text": [
      "Validation Accuracy:\t0.9482, Test Accuracy:\t0.9459\n",
      "-------------------------------------------------------\n",
      "epoch:  5\n",
      "start training:  2023-09-15 11:28:55.135896\n"
     ]
    },
    {
     "name": "stderr",
     "output_type": "stream",
     "text": [
      "                                                                      \r"
     ]
    },
    {
     "name": "stdout",
     "output_type": "stream",
     "text": [
      "\tLoss:\t49.1352\n"
     ]
    },
    {
     "name": "stderr",
     "output_type": "stream",
     "text": [
      "                                                                      \r"
     ]
    },
    {
     "name": "stdout",
     "output_type": "stream",
     "text": [
      "Validation Accuracy:\t0.9482, Test Accuracy:\t0.9463\n",
      "-------------------------------------------------------\n",
      "epoch:  6\n",
      "start training:  2023-09-15 11:30:07.363345\n"
     ]
    },
    {
     "name": "stderr",
     "output_type": "stream",
     "text": [
      "                                                                      \r"
     ]
    },
    {
     "name": "stdout",
     "output_type": "stream",
     "text": [
      "\tLoss:\t47.9144\n"
     ]
    },
    {
     "name": "stderr",
     "output_type": "stream",
     "text": [
      "                                                                      \r"
     ]
    },
    {
     "name": "stdout",
     "output_type": "stream",
     "text": [
      "Validation Accuracy:\t0.9482, Test Accuracy:\t0.9459\n",
      "-------------------------------------------------------\n",
      "epoch:  7\n",
      "start training:  2023-09-15 11:31:10.905541\n"
     ]
    },
    {
     "name": "stderr",
     "output_type": "stream",
     "text": [
      "                                                                      \r"
     ]
    },
    {
     "name": "stdout",
     "output_type": "stream",
     "text": [
      "\tLoss:\t45.9097\n"
     ]
    },
    {
     "name": "stderr",
     "output_type": "stream",
     "text": [
      "                                                                      \r"
     ]
    },
    {
     "name": "stdout",
     "output_type": "stream",
     "text": [
      "Validation Accuracy:\t0.9482, Test Accuracy:\t0.9451\n",
      "-------------------------------------------------------\n",
      "epoch:  8\n",
      "start training:  2023-09-15 11:32:16.793723\n"
     ]
    },
    {
     "name": "stderr",
     "output_type": "stream",
     "text": [
      "                                                                      \r"
     ]
    },
    {
     "name": "stdout",
     "output_type": "stream",
     "text": [
      "\tLoss:\t43.5645\n"
     ]
    },
    {
     "name": "stderr",
     "output_type": "stream",
     "text": [
      "                                                                      \r"
     ]
    },
    {
     "name": "stdout",
     "output_type": "stream",
     "text": [
      "Validation Accuracy:\t0.9482, Test Accuracy:\t0.9451\n",
      "-------------------------------------------------------\n",
      "epoch:  9\n",
      "start training:  2023-09-15 11:33:22.558951\n"
     ]
    },
    {
     "name": "stderr",
     "output_type": "stream",
     "text": [
      " 35%|███████████▏                    | 258/738 [00:18<00:31, 15.37b/s]"
     ]
    }
   ],
   "source": [
    "%run run.py"
   ]
  },
  {
   "cell_type": "code",
   "execution_count": null,
   "id": "719e40d9",
   "metadata": {},
   "outputs": [],
   "source": []
  }
 ],
 "metadata": {
  "kernelspec": {
   "display_name": "csEnv",
   "language": "python",
   "name": "csenv"
  },
  "language_info": {
   "codemirror_mode": {
    "name": "ipython",
    "version": 3
   },
   "file_extension": ".py",
   "mimetype": "text/x-python",
   "name": "python",
   "nbconvert_exporter": "python",
   "pygments_lexer": "ipython3",
   "version": "3.6.6"
  }
 },
 "nbformat": 4,
 "nbformat_minor": 5
}
